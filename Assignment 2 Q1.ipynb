{
 "cells": [
  {
   "cell_type": "code",
   "execution_count": 1,
   "id": "b6f665d0",
   "metadata": {},
   "outputs": [],
   "source": [
    "##Import VTK\n",
    "from vtk import *"
   ]
  },
  {
   "cell_type": "code",
   "execution_count": 2,
   "id": "9f508e16",
   "metadata": {},
   "outputs": [],
   "source": [
    "##Loading dataset using vtkXMLImageDataReader() and created a data object from readers output\n",
    "\n",
    "reader = vtkXMLImageDataReader() \n",
    "reader.SetFileName('Data/Isabel_2D.vti') \n",
    "reader.Update() \n",
    "data = reader.GetOutput()"
   ]
  },
  {
   "cell_type": "code",
   "execution_count": 3,
   "id": "2e0fdbe1",
   "metadata": {},
   "outputs": [
    {
     "data": {
      "text/plain": [
       "62001"
      ]
     },
     "execution_count": 3,
     "metadata": {},
     "output_type": "execute_result"
    }
   ],
   "source": [
    "numCells = data.GetNumberOfCells()\n",
    "numCells"
   ]
  },
  {
   "cell_type": "code",
   "execution_count": 4,
   "id": "dc457207",
   "metadata": {},
   "outputs": [
    {
     "name": "stdout",
     "output_type": "stream",
     "text": [
      "Input Iso Value:250\n"
     ]
    },
    {
     "data": {
      "text/plain": [
       "1142"
      ]
     },
     "execution_count": 4,
     "metadata": {},
     "output_type": "execute_result"
    }
   ],
   "source": [
    "C = int(input(\"Input Iso Value:\"))\n",
    "dataArr = data.GetPointData().GetArray('Pressure')\n",
    "points = vtkPoints()\n",
    "polyLine = vtkPolyLine()\n",
    "polyData = vtkPolyData()\n",
    "cells = vtkCellArray()\n",
    "count = 0\n",
    "\n",
    "for i in range(numCells):\n",
    "    cell = data.GetCell(i)\n",
    "    pid1 = cell.GetPointId(0)\n",
    "    pid2 = cell.GetPointId(1)\n",
    "    pid3 = cell.GetPointId(3)\n",
    "    pid4 = cell.GetPointId(2)\n",
    "    \n",
    "    p1 = data.GetPoint(pid1)\n",
    "    p2 = data.GetPoint(pid2)\n",
    "    p3 = data.GetPoint(pid3)\n",
    "    p4 = data.GetPoint(pid4)\n",
    "     \n",
    "    v1 = dataArr.GetTuple1(pid1)\n",
    "    v2 = dataArr.GetTuple1(pid2)\n",
    "    v3 = dataArr.GetTuple1(pid3)\n",
    "    v4 = dataArr.GetTuple1(pid4)\n",
    "#     print(v1, v2, v3, v4)\n",
    "    if((v1 < C and v2 > C) or (v1 > C and v2 < C)):\n",
    "#         print('----')\n",
    "        iso_pointX = (v1 - C)/(v1 - v2) * (p2[0] - p1[0]) + p1[0]\n",
    "        iso_pointY = (v1 - C)/(v1 - v2) * (p2[1] - p1[1]) + p1[1]\n",
    "        iso_pointZ = (v1 - C)/(v1 - v2) * (p2[2] - p1[2]) + p1[2]\n",
    "        points.InsertNextPoint([iso_pointX, iso_pointY, iso_pointZ])\n",
    "        count = count + 1\n",
    "    if((v2 < C and v3 > C) or (v2 > C and v3 < C)):\n",
    "#         print('----')\n",
    "        iso_pointX = (v2 - C)/(v2 - v3) * (p3[0] - p2[0]) + p2[0]\n",
    "        iso_pointY = (v2 - C)/(v2 - v3) * (p3[1] - p2[1]) + p2[1]\n",
    "        iso_pointZ = (v2 - C)/(v2 - v3) * (p3[2] - p2[2]) + p2[2]\n",
    "        points.InsertNextPoint([iso_pointX, iso_pointY, iso_pointZ])\n",
    "        count = count + 1\n",
    "    if((v3 < C and v4 > C) or (v3 > C and v4 < C)):\n",
    "#         print('----')\n",
    "        iso_pointX = (v3 - C)/(v3 - v4) * (p4[0] - p3[0]) + p3[0]\n",
    "        iso_pointY = (v3 - C)/(v3 - v4) * (p4[1] - p3[1]) + p3[1]\n",
    "        iso_pointZ = (v3 - C)/(v3 - v4) * (p4[2] - p3[2]) + p3[2]\n",
    "        points.InsertNextPoint([iso_pointX, iso_pointY, iso_pointZ])\n",
    "        count = count + 1\n",
    "    if((v4 < C and v1 > C) or (v4 > C and v1 < C)):\n",
    "#         print('----')\n",
    "        iso_pointX = (v4 - C)/(v4 - v1) * (p1[0] - p4[0]) + p4[0]\n",
    "        iso_pointY = (v4 - C)/(v4 - v1) * (p1[1] - p4[1]) + p4[1]\n",
    "        iso_pointZ = (v4 - C)/(v4 - v1) * (p1[2] - p4[2]) + p4[2]\n",
    "        points.InsertNextPoint([iso_pointX, iso_pointY, iso_pointZ])\n",
    "        count = count + 1;\n",
    "\n",
    "j = 0\n",
    "while(j < count):\n",
    "    polyLine.GetPointIds().SetNumberOfIds(2)\n",
    "    polyLine.GetPointIds().SetId(0, j)\n",
    "    polyLine.GetPointIds().SetId(1, j + 1)\n",
    "    cells.InsertNextCell(polyLine)\n",
    "    j += 2\n",
    "polyData.SetPoints(points)\n",
    "polyData.SetLines(cells)\n",
    "points.GetNumberOfPoints()"
   ]
  },
  {
   "cell_type": "code",
   "execution_count": 5,
   "id": "6ce57a4a",
   "metadata": {},
   "outputs": [],
   "source": [
    "mapper = vtkPolyDataMapper()\n",
    "mapper.SetInputData(polyData)\n",
    "actor = vtkActor()\n",
    "actor.SetMapper(mapper)\n",
    "renderer = vtkRenderer()\n",
    "renderer.AddActor(actor)\n",
    "renderer.SetBackground(0, 0, 0)\n",
    "rwindow = vtkRenderWindow()\n",
    "rwindow.SetSize(800,800)\n",
    "rwindow.AddRenderer(renderer)\n"
   ]
  },
  {
   "cell_type": "code",
   "execution_count": 6,
   "id": "535729e1",
   "metadata": {},
   "outputs": [],
   "source": [
    "##Created render_windowInteractor and setting up the renderWindow to interactor\n",
    "render_windowInteractor = vtkRenderWindowInteractor() \n",
    "render_windowInteractor.SetRenderWindow(rwindow) "
   ]
  },
  {
   "cell_type": "code",
   "execution_count": 7,
   "id": "066e9ab6",
   "metadata": {},
   "outputs": [],
   "source": [
    "##render the object\n",
    "rwindow.Render()\n",
    "render_windowInteractor.Start()"
   ]
  },
  {
   "cell_type": "code",
   "execution_count": null,
   "id": "44c2a251",
   "metadata": {},
   "outputs": [],
   "source": []
  }
 ],
 "metadata": {
  "kernelspec": {
   "display_name": "Python 3 (ipykernel)",
   "language": "python",
   "name": "python3"
  },
  "language_info": {
   "codemirror_mode": {
    "name": "ipython",
    "version": 3
   },
   "file_extension": ".py",
   "mimetype": "text/x-python",
   "name": "python",
   "nbconvert_exporter": "python",
   "pygments_lexer": "ipython3",
   "version": "3.9.13"
  }
 },
 "nbformat": 4,
 "nbformat_minor": 5
}
