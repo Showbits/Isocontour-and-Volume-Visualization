{
 "cells": [
  {
   "cell_type": "code",
   "execution_count": 92,
   "id": "a6baf09c",
   "metadata": {},
   "outputs": [],
   "source": [
    "##Import VTK\n",
    "from vtk import *"
   ]
  },
  {
   "cell_type": "code",
   "execution_count": 93,
   "id": "01c2121b",
   "metadata": {},
   "outputs": [],
   "source": [
    "##Loading dataset using vtkXMLImageDataReader() and created a data object from readers output\n",
    "\n",
    "reader = vtkXMLImageDataReader() \n",
    "reader.SetFileName('Data/Isabel_3D.vti') \n",
    "reader.Update() \n",
    "data = reader.GetOutput()"
   ]
  },
  {
   "cell_type": "code",
   "execution_count": 94,
   "id": "0fc5e516",
   "metadata": {},
   "outputs": [],
   "source": [
    "color = vtkColorTransferFunction()\n",
    "opacity = vtkPiecewiseFunction()"
   ]
  },
  {
   "cell_type": "code",
   "execution_count": 95,
   "id": "66e8d4a3",
   "metadata": {},
   "outputs": [
    {
     "data": {
      "text/plain": [
       "5"
      ]
     },
     "execution_count": 95,
     "metadata": {},
     "output_type": "execute_result"
    }
   ],
   "source": [
    "color.AddRGBPoint(-4931.54, 0, 1, 1)\n",
    "color.AddRGBPoint(-2508.95, 0, 0, 1)\n",
    "color.AddRGBPoint(-1873.9, 0, 0, 0.5)\n",
    "color.AddRGBPoint(-1027.16, 1, 0, 0)\n",
    "color.AddRGBPoint(-298.031, 1, 0.4, 0)\n",
    "color.AddRGBPoint(2594.97, 1, 1, 0)"
   ]
  },
  {
   "cell_type": "code",
   "execution_count": 96,
   "id": "6b46511b",
   "metadata": {},
   "outputs": [
    {
     "data": {
      "text/plain": [
       "2"
      ]
     },
     "execution_count": 96,
     "metadata": {},
     "output_type": "execute_result"
    }
   ],
   "source": [
    "opacity.AddPoint(-4931.54, 1.0)\n",
    "opacity.AddPoint(101.815, 0.002)\n",
    "opacity.AddPoint(2594.97, 0.0)"
   ]
  },
  {
   "cell_type": "code",
   "execution_count": 97,
   "id": "e110bd83",
   "metadata": {},
   "outputs": [],
   "source": [
    "volumeMapper = vtkSmartVolumeMapper()\n",
    "volumeMapper.SetInputData(data)\n",
    "properties = vtkVolumeProperty()\n",
    "properties.SetColor(color)\n",
    "properties.SetScalarOpacity(opacity)"
   ]
  },
  {
   "cell_type": "code",
   "execution_count": 98,
   "id": "0831a4d0",
   "metadata": {},
   "outputs": [],
   "source": [
    "outline_filter = vtkOutlineFilter()\n",
    "outline_filter.SetInputData(data)\n",
    "outline_filter.Update()"
   ]
  },
  {
   "cell_type": "code",
   "execution_count": 99,
   "id": "13379999",
   "metadata": {},
   "outputs": [
    {
     "name": "stdout",
     "output_type": "stream",
     "text": [
      "Enter y or n:n\n"
     ]
    }
   ],
   "source": [
    "input_phong = input(\"Enter y or n:\")\n",
    "if(input_phong == 'y'):\n",
    "    properties.ShadeOn()\n",
    "    properties.SetAmbient(0.5)\n",
    "    properties.SetDiffuse(0.5)\n",
    "    properties.SetSpecular(0.5)"
   ]
  },
  {
   "cell_type": "code",
   "execution_count": 100,
   "id": "d0a7c634",
   "metadata": {},
   "outputs": [],
   "source": [
    "volume = vtkVolume()\n",
    "volume.SetMapper(volumeMapper)\n",
    "volume.SetProperty(properties)"
   ]
  },
  {
   "cell_type": "code",
   "execution_count": 107,
   "id": "54a9a4ad",
   "metadata": {},
   "outputs": [],
   "source": [
    "polydata_mapper= vtkPolyDataMapper()\n",
    "polydata_mapper.SetInputConnection(outline_filter.GetOutputPort())\n",
    "actor = vtkActor()\n",
    "actor.SetMapper(polydata_mapper)\n",
    "renderer = vtkRenderer()\n",
    "renderer.AddActor(actor)\n",
    "renderer.AddActor(volume)\n",
    "renderer.SetBackground(1.0, 1.0, 1.0)\n",
    "rwindow = vtkRenderWindow()\n",
    "rwindow.SetSize(1000, 1000)\n",
    "rwindow.AddRenderer(renderer)"
   ]
  },
  {
   "cell_type": "code",
   "execution_count": 108,
   "id": "a2b7ad33",
   "metadata": {},
   "outputs": [],
   "source": [
    "##Created render_windowInteractor and setting up the renderWindow to interactor\n",
    "render_windowInteractor = vtkRenderWindowInteractor() \n",
    "render_windowInteractor.SetRenderWindow(rwindow) "
   ]
  },
  {
   "cell_type": "code",
   "execution_count": 109,
   "id": "82426bd5",
   "metadata": {},
   "outputs": [],
   "source": [
    "##render the object\n",
    "rwindow.Render()\n",
    "render_windowInteractor.Start()"
   ]
  },
  {
   "cell_type": "code",
   "execution_count": null,
   "id": "f91799eb",
   "metadata": {},
   "outputs": [],
   "source": []
  }
 ],
 "metadata": {
  "kernelspec": {
   "display_name": "Python 3 (ipykernel)",
   "language": "python",
   "name": "python3"
  },
  "language_info": {
   "codemirror_mode": {
    "name": "ipython",
    "version": 3
   },
   "file_extension": ".py",
   "mimetype": "text/x-python",
   "name": "python",
   "nbconvert_exporter": "python",
   "pygments_lexer": "ipython3",
   "version": "3.9.13"
  }
 },
 "nbformat": 4,
 "nbformat_minor": 5
}
